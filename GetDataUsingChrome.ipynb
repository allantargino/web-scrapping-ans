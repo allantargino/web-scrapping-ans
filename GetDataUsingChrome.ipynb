{
 "cells": [
  {
   "cell_type": "code",
   "execution_count": 7,
   "metadata": {},
   "outputs": [],
   "source": [
    "from selenium import webdriver\n",
    "\n",
    "from bs4 import BeautifulSoup\n",
    "\n",
    "import csv\n",
    "\n",
    "import os"
   ]
  },
  {
   "cell_type": "code",
   "execution_count": 8,
   "metadata": {},
   "outputs": [],
   "source": [
    "def pegar_dados_operadora(coOperadora):\n",
    "    chromedriver=\"C:\\shared\\chromedriver.exe\"\n",
    "    os.environ[\"webdriver.chrome.driver\"] = chromedriver\n",
    "    driver = webdriver.Chrome(chromedriver)\n",
    "\n",
    "    url='http://www.ans.gov.br/ConsultaPlanosConsumidor/pages/ConsultaPlanos.xhtml?coOperadora=' + coOperadora\n",
    "    driver.get(url)\n",
    "\n",
    "    driver.implicitly_wait(3)\n",
    "\n",
    "    # Pesquisa sem filtro\n",
    "    modalidade = driver.find_element_by_id('formConsulta:outModalidade').text\n",
    "    \n",
    "    row = [coOperadora, modalidade]\n",
    "    \n",
    "    # Fechar\n",
    "    driver.quit()\n",
    "    \n",
    "    return row"
   ]
  },
  {
   "cell_type": "code",
   "execution_count": 9,
   "metadata": {},
   "outputs": [],
   "source": [
    "operadoras = ['000701','005711','006246','303976','311961','312720','312924','313971','317144','318299','319996','323080','324477','326305','333689','339679','346659','357391','366811','366871','367095','368253','393321','400891','406554','414492','416401','416428','416894','416983','418374','419133','420077']\n",
    "\n",
    "rows = []\n",
    "for i, codigo in enumerate(operadoras):\n",
    "    row = pegar_dados_operadora(codigo)\n",
    "    rows.append(row)\n",
    "    \n",
    "# Gravar\n",
    "file = 'modalidades.csv'\n",
    "with open(file, 'w', newline='', encoding='utf-16') as f:\n",
    "    writer = csv.writer(f)\n",
    "    writer.writerows(row for row in rows if row)"
   ]
  },
  {
   "cell_type": "code",
   "execution_count": null,
   "metadata": {},
   "outputs": [],
   "source": []
  }
 ],
 "metadata": {
  "kernelspec": {
   "display_name": "Python 3",
   "language": "python",
   "name": "python3"
  },
  "language_info": {
   "codemirror_mode": {
    "name": "ipython",
    "version": 3
   },
   "file_extension": ".py",
   "mimetype": "text/x-python",
   "name": "python",
   "nbconvert_exporter": "python",
   "pygments_lexer": "ipython3",
   "version": "3.6.4"
  }
 },
 "nbformat": 4,
 "nbformat_minor": 2
}
