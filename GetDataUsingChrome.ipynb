{
 "cells": [
  {
   "cell_type": "code",
   "execution_count": null,
   "metadata": {},
   "outputs": [],
   "source": [
    "from selenium import webdriver\n",
    "from selenium.common.exceptions import TimeoutException\n",
    "from selenium.webdriver.support.ui import WebDriverWait\n",
    "from selenium.webdriver.support import expected_conditions as EC\n",
    "from selenium.webdriver.common.by import By\n",
    "\n",
    "from bs4 import BeautifulSoup\n",
    "\n",
    "import csv\n",
    "\n",
    "import os"
   ]
  },
  {
   "cell_type": "code",
   "execution_count": null,
   "metadata": {},
   "outputs": [],
   "source": [
    "def pegar_dados_operadora(coOperadora):\n",
    "    chromedriver=\"C:\\shared\\chromedriver.exe\"\n",
    "    os.environ[\"webdriver.chrome.driver\"] = chromedriver\n",
    "    driver = webdriver.Chrome(chromedriver)\n",
    "\n",
    "    url='http://www.ans.gov.br/ConsultaPlanosConsumidor/pages/ConsultaPlanos.xhtml?coOperadora=' + coOperadora\n",
    "    driver.get(url)\n",
    "\n",
    "    driver.implicitly_wait(3)\n",
    "\n",
    "    # Pesquisa sem filtro\n",
    "    driver.find_element_by_id('formConsulta:j_idt27').click()\n",
    "\n",
    "    # Total de paginas\n",
    "    pagina = 1\n",
    "    paginas = int(driver.find_element_by_class_name('ui-paginator-current').text.split(' de ')[1])\n",
    "\n",
    "    rows = []\n",
    "    for i in range(paginas):\n",
    "        html = BeautifulSoup(driver.page_source, 'html.parser')\n",
    "\n",
    "        table_div = html.find('div' , {'id': 'formConsulta:tblPlanos' })\n",
    "        table = table_div.find('table')\n",
    "\n",
    "        for row in table.find_all('tr'):\n",
    "            rows.append([val.text.replace('\\n','') for val in row.find_all('td')])\n",
    "\n",
    "        # Proxima página\n",
    "        driver.find_element_by_class_name('ui-paginator-next').click()\n",
    "\n",
    "        while True:\n",
    "            atual = int(driver.find_element_by_class_name('ui-paginator-current').text.split(' de ')[0])\n",
    "\n",
    "            if atual == paginas:\n",
    "                break;\n",
    "\n",
    "            if atual == pagina + 1:\n",
    "                pagina = pagina + 1\n",
    "                driver.implicitly_wait(1)\n",
    "                break\n",
    "            else:\n",
    "                driver.implicitly_wait(3)\n",
    "\n",
    "    # Gravar\n",
    "    file = coOperadora + '.csv'\n",
    "    with open(file, 'w', newline='', encoding='utf-16') as f:\n",
    "        writer = csv.writer(f)\n",
    "        writer.writerows(row for row in rows if row)\n",
    "\n",
    "    # Fechar\n",
    "    driver.quit()"
   ]
  },
  {
   "cell_type": "code",
   "execution_count": null,
   "metadata": {},
   "outputs": [],
   "source": [
    "operadoras = ['368253', '311961', '005711', '367095', '416894', '006246', '366871', '313971', '000701', '406554', '333689']\n",
    "\n",
    "for i, codigo in enumerate(operadoras):\n",
    "    pegar_dados_operadora(codigo)"
   ]
  }
 ],
 "metadata": {
  "kernelspec": {
   "display_name": "Python 3",
   "language": "python",
   "name": "python3"
  },
  "language_info": {
   "codemirror_mode": {
    "name": "ipython",
    "version": 3
   },
   "file_extension": ".py",
   "mimetype": "text/x-python",
   "name": "python",
   "nbconvert_exporter": "python",
   "pygments_lexer": "ipython3",
   "version": "3.6.4"
  }
 },
 "nbformat": 4,
 "nbformat_minor": 2
}
